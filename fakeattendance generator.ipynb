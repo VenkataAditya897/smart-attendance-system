{
 "cells": [
  {
   "cell_type": "code",
   "execution_count": 1,
   "metadata": {},
   "outputs": [
    {
     "name": "stdout",
     "output_type": "stream",
     "text": [
      "Fake attendance data inserted successfully!\n"
     ]
    }
   ],
   "source": [
    "from pymongo import MongoClient\n",
    "from bson import ObjectId\n",
    "from datetime import datetime, timedelta\n",
    "import random\n",
    "\n",
    "# Connect to MongoDB\n",
    "client = MongoClient(\"mongodb://localhost:27017/\")\n",
    "db = client[\"Attendance\"]  # Replace with your database name\n",
    "attendance_collection = db[\"attendance\"]\n",
    "\n",
    "# Student details\n",
    "student_id = ObjectId(\"67ba9573d0a50a336c3a3356\")  # Student's ObjectId\n",
    "roll_number = \"501\"\n",
    "name = \"A\"\n",
    "email = \"a@gmail.com\"\n",
    "\n",
    "# Generate fake attendance for the past 10 days\n",
    "fake_attendance_data = []\n",
    "start_date = datetime(2025, 2, 10)  # Start date for fake data\n",
    "\n",
    "for i in range(10):  \n",
    "    attendance_date = start_date + timedelta(days=i)\n",
    "    \n",
    "    record = {\n",
    "        \"student_id\": student_id,\n",
    "        \"roll_number\": roll_number,\n",
    "        \"name\": name,\n",
    "        \"email\": email,\n",
    "        \"date\": attendance_date,\n",
    "        \"image_path\": f\"attendance_{student_id}_{random.randint(1000000000, 9999999999)}.jpg\",\n",
    "        \"approval_request\": random.choice([\"approved\", \"pending\", \"rejected\"])\n",
    "    }\n",
    "    \n",
    "    fake_attendance_data.append(record)\n",
    "\n",
    "# Insert into MongoDB\n",
    "attendance_collection.insert_many(fake_attendance_data)\n",
    "\n",
    "print(\"Fake attendance data inserted successfully!\")\n"
   ]
  },
  {
   "cell_type": "code",
   "execution_count": null,
   "metadata": {},
   "outputs": [],
   "source": []
  }
 ],
 "metadata": {
  "kernelspec": {
   "display_name": "Python 3",
   "language": "python",
   "name": "python3"
  },
  "language_info": {
   "codemirror_mode": {
    "name": "ipython",
    "version": 3
   },
   "file_extension": ".py",
   "mimetype": "text/x-python",
   "name": "python",
   "nbconvert_exporter": "python",
   "pygments_lexer": "ipython3",
   "version": "3.10.0"
  }
 },
 "nbformat": 4,
 "nbformat_minor": 2
}
